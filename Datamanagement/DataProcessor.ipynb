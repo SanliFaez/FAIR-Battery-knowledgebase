{
 "cells": [
  {
   "cell_type": "markdown",
   "id": "fc4e78d7",
   "metadata": {},
   "source": [
    "# Import Libraries"
   ]
  },
  {
   "cell_type": "code",
   "execution_count": 1,
   "id": "2b447db1",
   "metadata": {},
   "outputs": [
    {
     "name": "stdout",
     "output_type": "stream",
     "text": [
      "Requirement already satisfied: owlready2 in /home/hendrik/anaconda3/envs/scrap/lib/python3.9/site-packages (0.38)\r\n"
     ]
    },
    {
     "name": "stderr",
     "output_type": "stream",
     "text": [
      "* Owlready2 * Warning: optimized Cython parser module 'owlready2_optimized' is not available, defaulting to slower Python implementation\n"
     ]
    },
    {
     "name": "stdout",
     "output_type": "stream",
     "text": [
      "Requirement already satisfied: EMMOntoPy in /home/hendrik/anaconda3/envs/scrap/lib/python3.9/site-packages (0.4.0)\n",
      "Requirement already satisfied: numpy<2,>=1.19.5 in /home/hendrik/anaconda3/envs/scrap/lib/python3.9/site-packages (from EMMOntoPy) (1.22.3)\n",
      "Requirement already satisfied: rdflib<7,>=4.2.1 in /home/hendrik/anaconda3/envs/scrap/lib/python3.9/site-packages (from EMMOntoPy) (6.1.1)\n",
      "Requirement already satisfied: semver<3,>=2.8.1 in /home/hendrik/anaconda3/envs/scrap/lib/python3.9/site-packages (from EMMOntoPy) (2.13.0)\n",
      "Requirement already satisfied: defusedxml<1,>=0.7.1 in /home/hendrik/anaconda3/envs/scrap/lib/python3.9/site-packages (from EMMOntoPy) (0.7.1)\n",
      "Requirement already satisfied: Cython<0.30,>=0.29.21 in /home/hendrik/anaconda3/envs/scrap/lib/python3.9/site-packages (from EMMOntoPy) (0.29.32)\n",
      "Requirement already satisfied: pandas<1.6,>=1.2 in /home/hendrik/anaconda3/envs/scrap/lib/python3.9/site-packages (from EMMOntoPy) (1.4.3)\n",
      "Requirement already satisfied: openpyxl<3.1,>=3.0.9 in /home/hendrik/anaconda3/envs/scrap/lib/python3.9/site-packages (from EMMOntoPy) (3.0.10)\n",
      "Requirement already satisfied: pyparsing>=2.4.7 in /home/hendrik/anaconda3/envs/scrap/lib/python3.9/site-packages (from EMMOntoPy) (3.0.4)\n",
      "Requirement already satisfied: PyYAML<7,>=5.4.1 in /home/hendrik/anaconda3/envs/scrap/lib/python3.9/site-packages (from EMMOntoPy) (6.0)\n",
      "Requirement already satisfied: graphviz<0.21,>=0.16 in /home/hendrik/anaconda3/envs/scrap/lib/python3.9/site-packages (from EMMOntoPy) (0.20.1)\n",
      "Requirement already satisfied: packaging>=21.0<22 in /home/hendrik/anaconda3/envs/scrap/lib/python3.9/site-packages (from EMMOntoPy) (21.3)\n",
      "Requirement already satisfied: Pygments<3,>=2.7.4 in /home/hendrik/anaconda3/envs/scrap/lib/python3.9/site-packages (from EMMOntoPy) (2.11.2)\n",
      "Requirement already satisfied: blessings<2,>=1.7 in /home/hendrik/anaconda3/envs/scrap/lib/python3.9/site-packages (from EMMOntoPy) (1.7)\n",
      "Requirement already satisfied: Owlready2!=0.32,!=0.34,<0.39,>=0.28 in /home/hendrik/anaconda3/envs/scrap/lib/python3.9/site-packages (from EMMOntoPy) (0.38)\n",
      "Requirement already satisfied: six in /home/hendrik/anaconda3/envs/scrap/lib/python3.9/site-packages (from blessings<2,>=1.7->EMMOntoPy) (1.16.0)\n",
      "Requirement already satisfied: et-xmlfile in /home/hendrik/anaconda3/envs/scrap/lib/python3.9/site-packages (from openpyxl<3.1,>=3.0.9->EMMOntoPy) (1.1.0)\n",
      "Requirement already satisfied: python-dateutil>=2.8.1 in /home/hendrik/anaconda3/envs/scrap/lib/python3.9/site-packages (from pandas<1.6,>=1.2->EMMOntoPy) (2.8.2)\n",
      "Requirement already satisfied: pytz>=2020.1 in /home/hendrik/anaconda3/envs/scrap/lib/python3.9/site-packages (from pandas<1.6,>=1.2->EMMOntoPy) (2022.1)\n",
      "Requirement already satisfied: isodate in /home/hendrik/anaconda3/envs/scrap/lib/python3.9/site-packages (from rdflib<7,>=4.2.1->EMMOntoPy) (0.6.1)\n",
      "Requirement already satisfied: setuptools in /home/hendrik/anaconda3/envs/scrap/lib/python3.9/site-packages (from rdflib<7,>=4.2.1->EMMOntoPy) (61.2.0)\n"
     ]
    }
   ],
   "source": [
    "# Data\n",
    "import pandas as pd\n",
    "import numpy as np\n",
    "import time\n",
    "\n",
    "# Ontology\n",
    "!pip install owlready2 \n",
    "#import owlready2 as owl\n",
    "from owlready2 import *\n",
    "import re  # To separate words based on capital letters in onto classes & to split search queries\n",
    "!pip install EMMOntoPy #Special EMMO package\n",
    "# from ontopy import get_ontology"
   ]
  },
  {
   "cell_type": "markdown",
   "id": "a0187ae1",
   "metadata": {},
   "source": [
    "## Ontology"
   ]
  },
  {
   "cell_type": "code",
   "execution_count": 14,
   "id": "343b14ff",
   "metadata": {},
   "outputs": [
    {
     "name": "stdout",
     "output_type": "stream",
     "text": [
      "Your imported ontology with 33 classes is ready to use\n"
     ]
    }
   ],
   "source": [
    "\"\"\"Import Ontology & Select classes\"\"\"\n",
    "\n",
    "# write the location to the ontology to the onto_path list\n",
    "onto_path = [\"https://raw.githubusercontent.com/hendelhendel/FAIR_Battery/main/Ontology/test.owl\"]\n",
    "    # Note that all the ontology files has to be owl files.\n",
    "    \n",
    "# Import ontology\n",
    "try:\n",
    "    onto = get_ontology(onto_path[0]).load()\n",
    "except:\n",
    "    pass \n",
    "\n",
    "onto = get_ontology(onto_path[0]).load()\n",
    "\n",
    "# Collecting classes from ontology in a list\n",
    "class_raw = list(get_ontology(onto_path[0]).load().classes())\n",
    "\n",
    "# select classes by Prefix, suffix, nametags\n",
    "tag = 'ElectrochemicalFlowCell'\n",
    "prefix = 'electrochemistry.'\n",
    "\n",
    "ClassCleaner = lambda x : re.sub('_',  ' ',\\\n",
    "                                 re.sub(r\"(?<=\\w)([A-Z])\", r\" \\1\", \\\n",
    "                                 str(x).removesuffix(tag).removeprefix(prefix))) \\\n",
    "                                    if (str(x).find(prefix) != -1) else \"!EMPTY CLASS\" \n",
    "                            \n",
    "\n",
    "class_select = list(map(ClassCleaner, filter(lambda x : (str(x).find(tag) != -1), class_raw)))\n",
    "\n",
    "print(\"Your imported ontology with \"  + str(len(class_select)) + \" classes is ready to use\")"
   ]
  },
  {
   "cell_type": "markdown",
   "id": "92e21505",
   "metadata": {},
   "source": [
    "## Process Data"
   ]
  },
  {
   "cell_type": "code",
   "execution_count": 28,
   "id": "993b26b1",
   "metadata": {},
   "outputs": [],
   "source": [
    "\"\"\"Import Zotero Data Base from Github\"\"\"\n",
    "\n",
    "# Import raw data from github repository as dataframe\n",
    "data_path = 'https://raw.githubusercontent.com/hendelhendel/FAIR_Battery/main/Datamanagement/FlowBattKnowledgebase_1.csv'\n",
    "df_raw = pd.read_csv(data_path)"
   ]
  },
  {
   "cell_type": "code",
   "execution_count": 16,
   "id": "3a2047fd",
   "metadata": {},
   "outputs": [],
   "source": [
    "\"\"\"Data Process Functions\"\"\"\n",
    "\n",
    "# Function Text Cleaner\n",
    "f_CleanText = lambda text : re.split(\"\\. |\\! |\\? \", text.lower()) if (type(text) == str)  else [\"Not Available\"]\n",
    "    # Cleans text split scentices.\n",
    "    # Output is of strings per for every text inputed. \n",
    "    # Example: Input = sentence1.sentence2!sentence3? --> Output = [sentence1,sentence2,sentence3]\n",
    "    \n",
    "    \n",
    "# Function Keyword Search    \n",
    "f_SearchKeyword = lambda text, keyword : text if (text.find(keyword) != -1) else None \n",
    "    # Searches text for keyword\n",
    "    # Input: text = string or list of strings, keyword = string or list strings\n",
    "    # Example: \n",
    "        # text = [sentence1,sentence2,sentence_A,sentence_B]\n",
    "        # keyword = len(text)*[A]\n",
    "        # Output  = [0,0,sentence_A,0]\n",
    "        \n",
    "# Function Scan lists of lists with text\n",
    "f_ScanList = lambda text, keyword: list(map(f_SearchKeyword, text , len(text)*[keyword]))  \n",
    "    # Example: \n",
    "        # text = [[sentence1,sentence2],[sentence_A,sentence_B]]\n",
    "        # keyword = [A]\n",
    "        # Output  = [[0,0],[sentence_A,0]]\n",
    "                                        \n",
    "#f_ScanList = lambda text, keyword: f_SearchKeyword(text, 'keyword') #if (type(text) == str) else \"appel\"\n",
    "#f_ScanList = lambda text, keyword: len(text) if (type(text) == str) else \"appel\""
   ]
  },
  {
   "cell_type": "code",
   "execution_count": 34,
   "id": "81e84de9",
   "metadata": {},
   "outputs": [
    {
     "name": "stdout",
     "output_type": "stream",
     "text": [
      "Your 5644 articles are searched on 33 ontology classes in 0.32325148582458496 seconds.\n",
      "type df_processed to view data frame\n"
     ]
    }
   ],
   "source": [
    "\"\"\"Process Data\"\"\"\n",
    "start = time.time() # Measure time\n",
    "\n",
    "# New data frame to store processed data\n",
    "df_processed = df_raw\n",
    "SourceText = \"Abstract Note\" #Column name text source\n",
    "ProcessedText = \"Clean Abstract Note\" # Column name processed text\n",
    "\n",
    "# clean abstract data \n",
    "df_processed[ProcessedText] = df_raw[SourceText].map(f_CleanText)\n",
    "\n",
    "# function to search data for ontology classes !! depends on df_processed !!\n",
    "f_OntoSearch = lambda onto : list(map(f_ScanList, df_processed[ProcessedText], len(df_processed[ProcessedText])*[onto.lower()]))\n",
    "\n",
    "# Search data ontology class and store in df\n",
    "def f_AddSearchResults(df, ontology):\n",
    "    for onto in ontology: \n",
    "        df[str(onto)] = f_OntoSearch(onto)\n",
    "\n",
    "f_AddSearchResults(df_processed, class_select)\n",
    "\n",
    "end = time.time() # Measure time\n",
    "calc_time = end-start  # Measure time\n",
    "\n",
    "print(\"Your \" + str(len(df_processed)) + \" articles are searched on \"  + str(len(class_select)) + \" ontology classes in \" + str(calc_time) + \" seconds.\")\n",
    "print(\"type df_processed to view data frame\")\n",
    "\n",
    "# Store processed data\n",
    "df_processed.to_csv('ProcessedData.csv')\n"
   ]
  },
  {
   "cell_type": "code",
   "execution_count": 23,
   "id": "7719efa4",
   "metadata": {},
   "outputs": [
    {
     "data": {
      "text/plain": [
       "['an analysis is presented of the losses occurring in a kw-class vanadium redox flow battery due to species crossover, shunt currents, hydraulic pressure drops and pumping, in addition to cell overpotentials',\n",
       " None,\n",
       " None,\n",
       " None,\n",
       " None,\n",
       " None,\n",
       " None,\n",
       " None,\n",
       " None,\n",
       " 'moreover, it was found that pumps and their motors can affect significantly the efficiency of a kw-class vanadium redox flow battery system.']"
      ]
     },
     "execution_count": 23,
     "metadata": {},
     "output_type": "execute_result"
    }
   ],
   "source": [
    "df_processed[\"Pump\"][30]"
   ]
  },
  {
   "cell_type": "code",
   "execution_count": 22,
   "id": "598b7195",
   "metadata": {},
   "outputs": [
    {
     "data": {
      "text/plain": [
       "5644"
      ]
     },
     "execution_count": 22,
     "metadata": {},
     "output_type": "execute_result"
    }
   ],
   "source": [
    "len(df_processed)"
   ]
  }
 ],
 "metadata": {
  "kernelspec": {
   "display_name": "Python 3 (ipykernel)",
   "language": "python",
   "name": "python3"
  },
  "language_info": {
   "codemirror_mode": {
    "name": "ipython",
    "version": 3
   },
   "file_extension": ".py",
   "mimetype": "text/x-python",
   "name": "python",
   "nbconvert_exporter": "python",
   "pygments_lexer": "ipython3",
   "version": "3.9.12"
  }
 },
 "nbformat": 4,
 "nbformat_minor": 5
}
