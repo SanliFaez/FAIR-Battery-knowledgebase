{
  "nbformat": 4,
  "nbformat_minor": 0,
  "metadata": {
    "colab": {
      "provenance": []
    },
    "kernelspec": {
      "name": "python3",
      "display_name": "Python 3"
    },
    "language_info": {
      "name": "python"
    }
  },
  "cells": [
    {
      "cell_type": "markdown",
      "source": [
        "# Live Search engine\n",
        "Search the data with your own query follow step 1 and step 2 described below. After performing the steps go to **Runtime and select execute all**, or press: **CRTL** + **F9**. \n",
        "\n",
        "After the machine is done, click on the **document symbol** on the left. Your search results are now available as csv's. \n",
        "\n",
        "\n",
        "\n",
        "Hendrik Snijder March 2023\n",
        "\n",
        "\n",
        "**P.S.** If the CSV's are not available, the program is not ready yet or you have to click again on the document symbol. "
      ],
      "metadata": {
        "id": "a2Bn_C2Wkruf"
      }
    },
    {
      "cell_type": "markdown",
      "source": [
        "**Step 1** \n",
        "\n",
        "Fill in your search query in the block below just behind the 'QUERY = '. Make sure everythng is inbetween brackets! The text behind the \"#\" explains how the path has to be filled in. Use ontology terms from the fairbattery ontology or add your own search keywords for a free search. \n",
        "\n",
        "For ontology classes check the footnote at the end of this page or go to: https://github.com/SanliFaez/FAIR-Battery-knowledgebase/tree/main/Ontology \n"
      ],
      "metadata": {
        "id": "XjpMNS-3kLZI"
      }
    },
    {
      "cell_type": "code",
      "source": [
        "# Enter your search query here in between \"\". \n",
        "# Separate keywords by '| AND |' and '| OR |' \n",
        "# Be aware of capital letters\n",
        "# Never begin or end query with '|'\n",
        "# Choose free search ('y') if you want to search outside the ontology\n",
        "\n",
        "QUERY= \"Membrane| OR |Anode| AND |Electrolyte| OR |Ducks| OR |Apples\"\n",
        "free_search = 'y' # y/n\n",
        "\n",
        "  # 'y': to search broader then ontology\n",
        "  # 'n': to sarch only on ontological terms"
      ],
      "metadata": {
        "id": "zD7hDpTgkMZ0"
      },
      "execution_count": 1,
      "outputs": []
    },
    {
      "cell_type": "markdown",
      "source": [
        "**Step 2**\n",
        "\n",
        "Fill in below the path to the ontology and the raw data. The text behind the \"#\" explains how the path has to be filled in. A standard path to the fairbattery ontology and raw flowbattery dataset is already filled in."
      ],
      "metadata": {
        "id": "RRfXDnYhlBaO"
      }
    },
    {
      "cell_type": "code",
      "source": [
        "#Fill in https link to ontology class in between brackets and ''. only .owl are alowed\n",
        "Ontology_Path = [\"https://raw.githubusercontent.com/SanliFaez/FAIR-Battery-knowledgebase/main/Ontology/FAIR-Battery-ontology.owl\"]\n",
        "\n",
        "#Fill in https link to data.csv in between ''.\n",
        "RawData_Path = \"https://raw.githubusercontent.com/SanliFaez/FAIR-Battery-knowledgebase/main/Datamanagement/Data_Raw.csv\""
      ],
      "metadata": {
        "id": "9LR0aPDBsFCN"
      },
      "execution_count": 2,
      "outputs": []
    },
    {
      "cell_type": "markdown",
      "source": [
        "# Search Result Generator\n",
        "The blocks below, imports a python file from the github page and uses it to generate the search results. "
      ],
      "metadata": {
        "id": "uRCUguUNnXMe"
      }
    },
    {
      "cell_type": "code",
      "execution_count": 3,
      "metadata": {
        "colab": {
          "base_uri": "https://localhost:8080/"
        },
        "id": "Xn-rbcuroFjA",
        "outputId": "4d26f5f8-01f4-4dad-de14-7cf0140ec693"
      },
      "outputs": [
        {
          "output_type": "stream",
          "name": "stdout",
          "text": [
            "Looking in indexes: https://pypi.org/simple, https://us-python.pkg.dev/colab-wheels/public/simple/\n",
            "\u001b[31mERROR: Could not find a version that satisfies the requirement request (from versions: none)\u001b[0m\u001b[31m\n",
            "\u001b[0m\u001b[31mERROR: No matching distribution found for request\u001b[0m\u001b[31m\n",
            "\u001b[0mLooking in indexes: https://pypi.org/simple, https://us-python.pkg.dev/colab-wheels/public/simple/\n",
            "Collecting owlready2\n",
            "  Downloading Owlready2-0.40.tar.gz (27.3 MB)\n",
            "\u001b[2K     \u001b[90m━━━━━━━━━━━━━━━━━━━━━━━━━━━━━━━━━━━━━━━━\u001b[0m \u001b[32m27.3/27.3 MB\u001b[0m \u001b[31m15.0 MB/s\u001b[0m eta \u001b[36m0:00:00\u001b[0m\n",
            "\u001b[?25h  Preparing metadata (setup.py) ... \u001b[?25l\u001b[?25hdone\n",
            "Building wheels for collected packages: owlready2\n",
            "  Building wheel for owlready2 (setup.py) ... \u001b[?25l\u001b[?25hdone\n",
            "  Created wheel for owlready2: filename=Owlready2-0.40-cp39-cp39-linux_x86_64.whl size=24317886 sha256=d707043962b7e25b3ac5cc5db77fd67bb42b801b17cf314ba76c2f0ff6a6c3ae\n",
            "  Stored in directory: /root/.cache/pip/wheels/d7/57/3d/e5c8b9956e87df35a535741844755214b6c6844d6a8a50dc76\n",
            "Successfully built owlready2\n",
            "Installing collected packages: owlready2\n",
            "Successfully installed owlready2-0.40\n",
            "Import done\n"
          ]
        }
      ],
      "source": [
        "!pip install request\n",
        "# Data\n",
        "import numpy as np \n",
        "import pandas as pd \n",
        "import time \n",
        "import csv\n",
        "from collections import Counter \n",
        "import matplotlib.pyplot as plt  \n",
        "# Ontology\n",
        "!pip install owlready2 \n",
        "from owlready2 import * \n",
        "import re  # To separate words based on capital letters in onto classes & to split search queries\n",
        "import sys\n",
        "print(\"Import done\")"
      ]
    },
    {
      "cell_type": "code",
      "source": [
        "import requests\n",
        "# Save datagenerators as file to colab working directory\n",
        "# If you are using GitHub, make sure you get the \"Raw\" version of the code\n",
        "url = 'https://raw.githubusercontent.com/SanliFaez/FAIR-Battery-knowledgebase/main/Demo/functions.py'\n",
        "r = requests.get(url)\n",
        "\n",
        "# make sure your filename is the same as how you want to import \n",
        "with open('test.py', 'w') as f:\n",
        "    f.write(r.text)\n",
        "\n",
        "# now we can import\n",
        "import test"
      ],
      "metadata": {
        "colab": {
          "base_uri": "https://localhost:8080/"
        },
        "id": "qbvx42XooI8f",
        "outputId": "90ce7d34-4f29-490c-9976-6b1cd10fa5d8"
      },
      "execution_count": 4,
      "outputs": [
        {
          "output_type": "stream",
          "name": "stdout",
          "text": [
            "Import done\n"
          ]
        }
      ]
    },
    {
      "cell_type": "code",
      "source": [
        "# Process Data and search for query words\n",
        "df_testtest = test.ImportAndMineData(Ontology_Path, RawData_Path, QUERY, 'y')\n",
        "searchResult = test._calculateResult(QUERY, df_testtest)\n",
        "\n",
        "# Split Que to create CSV\n",
        "f_split_query = lambda query, separator : query.split(separator) # f_split_query(query = key1ANDkey2ORkey3) --> [[Key1,key2],[key3]]\n",
        "que =  list(map(f_split_query,f_split_query(QUERY, '| OR |'), len(f_split_query(QUERY, '| OR |'))*[\"| AND |\"]))\n",
        "\n",
        "# Select the Specs you want in your CSV. Type df_testtest to see possible specs\n",
        "specs = [\"DOI\",\"Title\",\"Item Type\",\"Abstract Note\"] # Choose specs from the list above\n",
        "d = {} # store search results in dictionary\n",
        "for q in que:\n",
        "  keywords = [str(q)] # a string because the calculate result function modefies query elements\n",
        "  rows = searchResult[1][str(keywords[0])] # select rows of relevant articles\n",
        "  df_store = pd.DataFrame # storage\n",
        "  temp_list = [] # temporal list\n",
        "  # Loop over row numbers if availble (only when article is relevant)\n",
        "  if len(rows) > 0:\n",
        "    for num in rows:\n",
        "      temptemp = df_testtest[specs][num: num + 1] \n",
        "      temp_list.append(temptemp) # store relevant information from rows in list\n",
        "    df_temp = pd.concat(temp_list) # Create data frame to export\n",
        "  else:\n",
        "    df_temp = df_testtest[specs][0:0] # Create data frame to export\n",
        "  name_csv = str(q) +'.csv' # Create name to export data\n",
        "  df_temp.to_csv(name_csv) # export data as CSV\n",
        "  d[str(q)] = df_temp  # store data in datafrae\n",
        "  print('... exported results of ' + str(q) + ' as .CSV')\n",
        "print('All results exported to CSV')\n",
        "print('Results available as dictionary d')\n",
        "print('--- DONE --- DONE --- DONE ---')\n"
      ],
      "metadata": {
        "colab": {
          "base_uri": "https://localhost:8080/"
        },
        "id": "-u0aB5-HvUcQ",
        "outputId": "269e5886-8663-4c4e-b5dd-e4dd874f8767"
      },
      "execution_count": 5,
      "outputs": [
        {
          "output_type": "stream",
          "name": "stdout",
          "text": [
            "...Loading query...\n",
            "Ducks not in ontology classes\n",
            "Ducks added to ontology classes\n",
            "Apples not in ontology classes\n",
            "Apples added to ontology classes\n",
            "..Query loaded...Start searching...\n",
            "Your imported ontology with 35 classes is ready to use\n",
            "Your 5644 articles are searched on 35 ontology classes in 0.76194167137146 seconds.\n",
            "type df_processed to view data frame\n",
            "data colected\n",
            "... exported results of ['Membrane'] as .CSV\n",
            "... exported results of ['Anode', 'Electrolyte'] as .CSV\n",
            "... exported results of ['Ducks'] as .CSV\n",
            "... exported results of ['Apples'] as .CSV\n",
            "All results exported to CSV\n",
            "Results available as dictionary d\n",
            "--- DONE --- DONE --- DONE ---\n"
          ]
        }
      ]
    },
    {
      "cell_type": "markdown",
      "source": [
        "# Footnote\n",
        "The ontology terms are: \n",
        "'Anode', 'Anolyte Tank','Aqueous Metal', 'Aqueous Metalic Electrolyte','Aqueous Organic','Aqueous Organic Electrolyte','C U Plate','Cathode','Catholyte Tank','Container','Current Collector','Daniel Cell', 'Electrolyte','End plate','Flow Field','Gasket','Intermediate Plate','Long List Redox Flow Batt','Membrane','Membraneless','Non Aqueous Organic','Non Aqueous Organic Electrolyte','Non Aqueous Organometallic','Non Aqueous Organometallic Electrolyte','Power density','Pump''Pumpless','Redox Potential','Stack','Subcomponent','Leakages'."
      ],
      "metadata": {
        "id": "rf5B6WD7mnB_"
      }
    }
  ]
}